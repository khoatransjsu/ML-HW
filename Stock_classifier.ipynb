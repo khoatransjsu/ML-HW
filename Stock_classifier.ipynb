{
 "cells": [
  {
   "cell_type": "code",
   "execution_count": 1,
   "metadata": {},
   "outputs": [],
   "source": [
    "import numpy as np\n",
    "import pandas as pd\n",
    "import matplotlib.pyplot as plt\n",
    "import seaborn as sn\n",
    "from yahoofinancials import YahooFinancials as yf\n",
    "from sklearn import svm\n",
    "from sklearn.model_selection import train_test_split\n",
    "from sklearn.metrics import accuracy_score, plot_confusion_matrix\n",
    "from sklearn.preprocessing import MinMaxScaler\n",
    "%matplotlib inline"
   ]
  },
  {
   "cell_type": "code",
   "execution_count": 2,
   "metadata": {},
   "outputs": [],
   "source": [
    "def get_stock_data(tickers, start_date, end_date, freq='daily'): \n",
    "    ticker_not_found=[]\n",
    "    for ticker in tickers:\n",
    "        yf_engine = yf(ticker)\n",
    "        price = yf_engine.get_historical_price_data(start_date,end_date,freq)\n",
    "        try:\n",
    "            ticker_data = pd.DataFrame(price[ticker]['prices'])\n",
    "            ticker_data = ticker_data.drop('date', axis=1)\n",
    "        except:\n",
    "            ticker_not_found.append(ticker)\n",
    "            continue\n",
    "            \n",
    "    return ticker_data, ticker_not_found"
   ]
  },
  {
   "cell_type": "code",
   "execution_count": 3,
   "metadata": {},
   "outputs": [
    {
     "data": {
      "text/html": [
       "<div>\n",
       "<style scoped>\n",
       "    .dataframe tbody tr th:only-of-type {\n",
       "        vertical-align: middle;\n",
       "    }\n",
       "\n",
       "    .dataframe tbody tr th {\n",
       "        vertical-align: top;\n",
       "    }\n",
       "\n",
       "    .dataframe thead th {\n",
       "        text-align: right;\n",
       "    }\n",
       "</style>\n",
       "<table border=\"1\" class=\"dataframe\">\n",
       "  <thead>\n",
       "    <tr style=\"text-align: right;\">\n",
       "      <th></th>\n",
       "      <th>high</th>\n",
       "      <th>low</th>\n",
       "      <th>open</th>\n",
       "      <th>close</th>\n",
       "      <th>volume</th>\n",
       "      <th>adjclose</th>\n",
       "      <th>formatted_date</th>\n",
       "    </tr>\n",
       "  </thead>\n",
       "  <tbody>\n",
       "    <tr>\n",
       "      <th>70</th>\n",
       "      <td>26.600000</td>\n",
       "      <td>24.309999</td>\n",
       "      <td>24.610001</td>\n",
       "      <td>25.930000</td>\n",
       "      <td>32609000</td>\n",
       "      <td>25.930000</td>\n",
       "      <td>2021-01-11</td>\n",
       "    </tr>\n",
       "    <tr>\n",
       "      <th>71</th>\n",
       "      <td>26.420000</td>\n",
       "      <td>25.510000</td>\n",
       "      <td>26.340000</td>\n",
       "      <td>26.180000</td>\n",
       "      <td>26995000</td>\n",
       "      <td>26.180000</td>\n",
       "      <td>2021-01-12</td>\n",
       "    </tr>\n",
       "    <tr>\n",
       "      <th>72</th>\n",
       "      <td>27.430000</td>\n",
       "      <td>25.129999</td>\n",
       "      <td>25.709999</td>\n",
       "      <td>25.500000</td>\n",
       "      <td>51216600</td>\n",
       "      <td>25.500000</td>\n",
       "      <td>2021-01-13</td>\n",
       "    </tr>\n",
       "    <tr>\n",
       "      <th>73</th>\n",
       "      <td>25.620001</td>\n",
       "      <td>24.370001</td>\n",
       "      <td>25.450001</td>\n",
       "      <td>24.920000</td>\n",
       "      <td>32908000</td>\n",
       "      <td>24.920000</td>\n",
       "      <td>2021-01-14</td>\n",
       "    </tr>\n",
       "    <tr>\n",
       "      <th>74</th>\n",
       "      <td>28.000000</td>\n",
       "      <td>25.459999</td>\n",
       "      <td>26.260000</td>\n",
       "      <td>25.639999</td>\n",
       "      <td>92037000</td>\n",
       "      <td>25.639999</td>\n",
       "      <td>2021-01-15</td>\n",
       "    </tr>\n",
       "  </tbody>\n",
       "</table>\n",
       "</div>"
      ],
      "text/plain": [
       "         high        low       open      close    volume   adjclose  \\\n",
       "70  26.600000  24.309999  24.610001  25.930000  32609000  25.930000   \n",
       "71  26.420000  25.510000  26.340000  26.180000  26995000  26.180000   \n",
       "72  27.430000  25.129999  25.709999  25.500000  51216600  25.500000   \n",
       "73  25.620001  24.370001  25.450001  24.920000  32908000  24.920000   \n",
       "74  28.000000  25.459999  26.260000  25.639999  92037000  25.639999   \n",
       "\n",
       "   formatted_date  \n",
       "70     2021-01-11  \n",
       "71     2021-01-12  \n",
       "72     2021-01-13  \n",
       "73     2021-01-14  \n",
       "74     2021-01-15  "
      ]
     },
     "execution_count": 3,
     "metadata": {},
     "output_type": "execute_result"
    }
   ],
   "source": [
    "ticker = ['PLTR']\n",
    "start_date = '2020-09-30'\n",
    "end_date = '2021-10-01'\n",
    "\n",
    "df, ticker_not_found = get_stock_data(ticker, start_date, end_date)\n",
    "\n",
    "df.tail()"
   ]
  },
  {
   "cell_type": "code",
   "execution_count": 4,
   "metadata": {},
   "outputs": [],
   "source": [
    "def get_clean_data (df, start_date, end_date):\n",
    "    \n",
    "    features = df.copy()\n",
    "    features = features.drop(['formatted_date'], axis=1)\n",
    "    features['volume'] = features['volume'].shift(1)\n",
    "    features['SMA'] = features['adjclose'].rolling(window=60).mean().shift(1)\n",
    "    features['Std'] = features['adjclose'].rolling(window=60).std().shift(1)\n",
    "    features['Band_1'] = features['SMA'] - features['Std']\n",
    "    features['Band_2'] = features['SMA'] + features['Std']\n",
    "    features['ON_returns'] = features['close'] - features['open'].shift(-1)\n",
    "    features['ON_returns'] = features['ON_returns'].shift(1)\n",
    "    features['ON_returns_signal'] = np.where(features['ON_returns']<0, 'up', 'down')\n",
    "    features['dist_from_mean'] = features['adjclose'].shift(1) - features['SMA']\n",
    "    #Obtaining Vix Data and combining with existing features of stock\n",
    "    ticker = ['^VIX']\n",
    "    start_date = start_date\n",
    "    end_date = end_date\n",
    "    vix_data, ticker_not_found = get_stock_data(ticker, start_date, end_date)\n",
    "    vix_data = pd.DataFrame(vix_data['adjclose'].shift(1))\n",
    "    vix_data = vix_data.rename(columns = {'adjclose':'vix_data'})\n",
    "    comb_features = pd.concat([features,vix_data], axis=1)\n",
    "    comb_features = comb_features.dropna() #dropping NaN values\n",
    "    comb_features = pd.get_dummies(comb_features, columns=['ON_returns_signal']) #for categorical variables\n",
    "    comb_features = comb_features.drop('ON_returns', axis=1) #dropping original categorical column\n",
    "    comb_features = comb_features.drop('close', axis=1) \n",
    "    ###Create return column to predict\n",
    "    comb_features['stock_move'] = np.where(comb_features['adjclose']-\n",
    "                                           comb_features['adjclose'].shift(-1)<0, \"Buy\", \"Sell\")\n",
    "    features_clean = comb_features.dropna()\n",
    "    features_clean = features_clean[:-1]\n",
    "    features_clean.tail()\n",
    "    return features_clean"
   ]
  },
  {
   "cell_type": "code",
   "execution_count": 5,
   "metadata": {},
   "outputs": [],
   "source": [
    "features = get_clean_data(df, start_date, end_date)"
   ]
  },
  {
   "cell_type": "code",
   "execution_count": 6,
   "metadata": {},
   "outputs": [
    {
     "data": {
      "text/html": [
       "<div>\n",
       "<style scoped>\n",
       "    .dataframe tbody tr th:only-of-type {\n",
       "        vertical-align: middle;\n",
       "    }\n",
       "\n",
       "    .dataframe tbody tr th {\n",
       "        vertical-align: top;\n",
       "    }\n",
       "\n",
       "    .dataframe thead th {\n",
       "        text-align: right;\n",
       "    }\n",
       "</style>\n",
       "<table border=\"1\" class=\"dataframe\">\n",
       "  <thead>\n",
       "    <tr style=\"text-align: right;\">\n",
       "      <th></th>\n",
       "      <th>high</th>\n",
       "      <th>low</th>\n",
       "      <th>open</th>\n",
       "      <th>volume</th>\n",
       "      <th>adjclose</th>\n",
       "      <th>SMA</th>\n",
       "      <th>Std</th>\n",
       "      <th>Band_1</th>\n",
       "      <th>Band_2</th>\n",
       "      <th>dist_from_mean</th>\n",
       "      <th>vix_data</th>\n",
       "      <th>ON_returns_signal_down</th>\n",
       "      <th>ON_returns_signal_up</th>\n",
       "      <th>stock_move</th>\n",
       "    </tr>\n",
       "  </thead>\n",
       "  <tbody>\n",
       "    <tr>\n",
       "      <th>69</th>\n",
       "      <td>26.440001</td>\n",
       "      <td>24.700001</td>\n",
       "      <td>25.700001</td>\n",
       "      <td>32240000.0</td>\n",
       "      <td>25.200001</td>\n",
       "      <td>19.398833</td>\n",
       "      <td>7.332474</td>\n",
       "      <td>12.066359</td>\n",
       "      <td>26.731308</td>\n",
       "      <td>5.601167</td>\n",
       "      <td>22.370001</td>\n",
       "      <td>0</td>\n",
       "      <td>1</td>\n",
       "      <td>Buy</td>\n",
       "    </tr>\n",
       "    <tr>\n",
       "      <th>70</th>\n",
       "      <td>26.600000</td>\n",
       "      <td>24.309999</td>\n",
       "      <td>24.610001</td>\n",
       "      <td>41313800.0</td>\n",
       "      <td>25.930000</td>\n",
       "      <td>19.661000</td>\n",
       "      <td>7.252228</td>\n",
       "      <td>12.408772</td>\n",
       "      <td>26.913228</td>\n",
       "      <td>5.539001</td>\n",
       "      <td>21.559999</td>\n",
       "      <td>1</td>\n",
       "      <td>0</td>\n",
       "      <td>Buy</td>\n",
       "    </tr>\n",
       "    <tr>\n",
       "      <th>71</th>\n",
       "      <td>26.420000</td>\n",
       "      <td>25.510000</td>\n",
       "      <td>26.340000</td>\n",
       "      <td>32609000.0</td>\n",
       "      <td>26.180000</td>\n",
       "      <td>19.937500</td>\n",
       "      <td>7.167823</td>\n",
       "      <td>12.769677</td>\n",
       "      <td>27.105323</td>\n",
       "      <td>5.992500</td>\n",
       "      <td>24.080000</td>\n",
       "      <td>0</td>\n",
       "      <td>1</td>\n",
       "      <td>Sell</td>\n",
       "    </tr>\n",
       "    <tr>\n",
       "      <th>72</th>\n",
       "      <td>27.430000</td>\n",
       "      <td>25.129999</td>\n",
       "      <td>25.709999</td>\n",
       "      <td>26995000.0</td>\n",
       "      <td>25.500000</td>\n",
       "      <td>20.208667</td>\n",
       "      <td>7.089369</td>\n",
       "      <td>13.119298</td>\n",
       "      <td>27.298036</td>\n",
       "      <td>5.971334</td>\n",
       "      <td>23.330000</td>\n",
       "      <td>1</td>\n",
       "      <td>0</td>\n",
       "      <td>Sell</td>\n",
       "    </tr>\n",
       "    <tr>\n",
       "      <th>73</th>\n",
       "      <td>25.620001</td>\n",
       "      <td>24.370001</td>\n",
       "      <td>25.450001</td>\n",
       "      <td>51216600.0</td>\n",
       "      <td>24.920000</td>\n",
       "      <td>20.471833</td>\n",
       "      <td>6.985349</td>\n",
       "      <td>13.486485</td>\n",
       "      <td>27.457182</td>\n",
       "      <td>5.028167</td>\n",
       "      <td>22.209999</td>\n",
       "      <td>1</td>\n",
       "      <td>0</td>\n",
       "      <td>Buy</td>\n",
       "    </tr>\n",
       "  </tbody>\n",
       "</table>\n",
       "</div>"
      ],
      "text/plain": [
       "         high        low       open      volume   adjclose        SMA  \\\n",
       "69  26.440001  24.700001  25.700001  32240000.0  25.200001  19.398833   \n",
       "70  26.600000  24.309999  24.610001  41313800.0  25.930000  19.661000   \n",
       "71  26.420000  25.510000  26.340000  32609000.0  26.180000  19.937500   \n",
       "72  27.430000  25.129999  25.709999  26995000.0  25.500000  20.208667   \n",
       "73  25.620001  24.370001  25.450001  51216600.0  24.920000  20.471833   \n",
       "\n",
       "         Std     Band_1     Band_2  dist_from_mean   vix_data  \\\n",
       "69  7.332474  12.066359  26.731308        5.601167  22.370001   \n",
       "70  7.252228  12.408772  26.913228        5.539001  21.559999   \n",
       "71  7.167823  12.769677  27.105323        5.992500  24.080000   \n",
       "72  7.089369  13.119298  27.298036        5.971334  23.330000   \n",
       "73  6.985349  13.486485  27.457182        5.028167  22.209999   \n",
       "\n",
       "    ON_returns_signal_down  ON_returns_signal_up stock_move  \n",
       "69                       0                     1        Buy  \n",
       "70                       1                     0        Buy  \n",
       "71                       0                     1       Sell  \n",
       "72                       1                     0       Sell  \n",
       "73                       1                     0        Buy  "
      ]
     },
     "execution_count": 6,
     "metadata": {},
     "output_type": "execute_result"
    }
   ],
   "source": [
    "features.tail()"
   ]
  },
  {
   "cell_type": "code",
   "execution_count": 7,
   "metadata": {},
   "outputs": [
    {
     "data": {
      "image/png": "[encoded data removed]",
      "text/plain": [
       "<Figure size 1296x432 with 2 Axes>"
      ]
     },
     "metadata": {
      "needs_background": "light"
     },
     "output_type": "display_data"
    }
   ],
   "source": [
    "corr_table = features.drop(['high', 'low'], axis=1).corr()\n",
    "fig, ax = plt.subplots(figsize=(18,6))\n",
    "sn.heatmap(corr_table, annot = True, ax=ax)\n",
    "plt.show()"
   ]
  },
  {
   "cell_type": "code",
   "execution_count": 8,
   "metadata": {},
   "outputs": [],
   "source": [
    "X = features.drop(['stock_move','high', 'low'], axis=1)\n",
    "y = features['stock_move']"
   ]
  },
  {
   "cell_type": "code",
   "execution_count": 9,
   "metadata": {},
   "outputs": [
    {
     "data": {
      "image/png": "[encoded data removed]",
      "text/plain": [
       "<Figure size 432x288 with 1 Axes>"
      ]
     },
     "metadata": {
      "needs_background": "light"
     },
     "output_type": "display_data"
    }
   ],
   "source": [
    "y.hist(bins=2);"
   ]
  },
  {
   "cell_type": "code",
   "execution_count": 10,
   "metadata": {},
   "outputs": [],
   "source": [
    "#test train split\n",
    "X_train, X_test, y_train, y_test = train_test_split(X, y, test_size=0.3, random_state=42)"
   ]
  },
  {
   "cell_type": "code",
   "execution_count": 11,
   "metadata": {},
   "outputs": [],
   "source": [
    "#Scale the features\n",
    "scaler = MinMaxScaler()\n",
    "X_train = scaler.fit_transform(X_train)\n",
    "X_test = scaler.transform(X_test)"
   ]
  },
  {
   "cell_type": "code",
   "execution_count": 12,
   "metadata": {},
   "outputs": [],
   "source": [
    "ticker_v = ['PLTR']\n",
    "start_date_v = '2020-09-30'\n",
    "end_date_v = '2021-01-15'\n",
    "clf = svm.SVC(kernel = 'rbf')\n",
    "df_v, ticker_not_found = get_stock_data(ticker_v, start_date, end_date)\n",
    "features_v = get_clean_data(df_v, start_date_v, end_date_v)\n",
    "X_val = features_v.drop(['stock_move','high', 'low'], axis=1)"
   ]
  },
  {
   "cell_type": "code",
   "execution_count": 13,
   "metadata": {},
   "outputs": [
    {
     "data": {
      "image/png": "[encoded data removed]",
      "text/plain": [
       "<Figure size 432x288 with 1 Axes>"
      ]
     },
     "metadata": {
      "needs_background": "light"
     },
     "output_type": "display_data"
    }
   ],
   "source": [
    "y_val = features_v['stock_move']\n",
    "X_val = scaler.transform(X_val)\n",
    "clf.fit(X_val, y_val)\n",
    "y_pred_v = clf.predict(X_val)\n",
    "plt.hist(y_pred_v, bins=2);"
   ]
  },
  {
   "cell_type": "code",
   "execution_count": 14,
   "metadata": {},
   "outputs": [
    {
     "data": {
      "image/png": "[encoded data removed]",
      "text/plain": [
       "<Figure size 432x288 with 1 Axes>"
      ]
     },
     "metadata": {
      "needs_background": "light"
     },
     "output_type": "display_data"
    }
   ],
   "source": [
    "plt.hist(y_val, bins=2);"
   ]
  },
  {
   "cell_type": "code",
   "execution_count": 15,
   "metadata": {},
   "outputs": [
    {
     "name": "stdout",
     "output_type": "stream",
     "text": [
      "Accuracy score of the model is:  0.7692307692307693\n"
     ]
    }
   ],
   "source": [
    "print (\"Accuracy score of the model is: \", accuracy_score(y_val, y_pred_v))"
   ]
  },
  {
   "cell_type": "code",
   "execution_count": 16,
   "metadata": {},
   "outputs": [],
   "source": [
    "pred_df = pd.DataFrame() "
   ]
  },
  {
   "cell_type": "code",
   "execution_count": 17,
   "metadata": {},
   "outputs": [],
   "source": [
    "pred_df['Actual Data'] = y_val\n",
    "pred_df['Predict Data'] = y_pred_v"
   ]
  },
  {
   "cell_type": "code",
   "execution_count": 18,
   "metadata": {},
   "outputs": [
    {
     "data": {
      "text/html": [
       "<div>\n",
       "<style scoped>\n",
       "    .dataframe tbody tr th:only-of-type {\n",
       "        vertical-align: middle;\n",
       "    }\n",
       "\n",
       "    .dataframe tbody tr th {\n",
       "        vertical-align: top;\n",
       "    }\n",
       "\n",
       "    .dataframe thead th {\n",
       "        text-align: right;\n",
       "    }\n",
       "</style>\n",
       "<table border=\"1\" class=\"dataframe\">\n",
       "  <thead>\n",
       "    <tr style=\"text-align: right;\">\n",
       "      <th></th>\n",
       "      <th>Actual Data</th>\n",
       "      <th>Predict Data</th>\n",
       "    </tr>\n",
       "  </thead>\n",
       "  <tbody>\n",
       "    <tr>\n",
       "      <th>68</th>\n",
       "      <td>Buy</td>\n",
       "      <td>Buy</td>\n",
       "    </tr>\n",
       "    <tr>\n",
       "      <th>69</th>\n",
       "      <td>Buy</td>\n",
       "      <td>Buy</td>\n",
       "    </tr>\n",
       "    <tr>\n",
       "      <th>70</th>\n",
       "      <td>Buy</td>\n",
       "      <td>Sell</td>\n",
       "    </tr>\n",
       "    <tr>\n",
       "      <th>71</th>\n",
       "      <td>Sell</td>\n",
       "      <td>Sell</td>\n",
       "    </tr>\n",
       "    <tr>\n",
       "      <th>72</th>\n",
       "      <td>Sell</td>\n",
       "      <td>Sell</td>\n",
       "    </tr>\n",
       "  </tbody>\n",
       "</table>\n",
       "</div>"
      ],
      "text/plain": [
       "   Actual Data Predict Data\n",
       "68         Buy          Buy\n",
       "69         Buy          Buy\n",
       "70         Buy         Sell\n",
       "71        Sell         Sell\n",
       "72        Sell         Sell"
      ]
     },
     "execution_count": 18,
     "metadata": {},
     "output_type": "execute_result"
    }
   ],
   "source": [
    "pred_df.tail()"
   ]
  },
  {
   "cell_type": "code",
   "execution_count": null,
   "metadata": {},
   "outputs": [],
   "source": []
  }
 ],
 "metadata": {
  "kernelspec": {
   "display_name": "Python 3",
   "language": "python",
   "name": "python3"
  },
  "language_info": {
   "codemirror_mode": {
    "name": "ipython",
    "version": 3
   },
   "file_extension": ".py",
   "mimetype": "text/x-python",
   "name": "python",
   "nbconvert_exporter": "python",
   "pygments_lexer": "ipython3",
   "version": "3.8.3"
  }
 },
 "nbformat": 4,
 "nbformat_minor": 4
}
