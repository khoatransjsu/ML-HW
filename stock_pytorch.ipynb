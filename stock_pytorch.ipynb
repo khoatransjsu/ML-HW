{
 "cells": [
  {
   "cell_type": "code",
   "execution_count": 1,
   "metadata": {},
   "outputs": [],
   "source": [
    "import torch\n",
    "import torch.nn as nn\n",
    "import numpy as np\n",
    "import pandas as pd\n",
    "import matplotlib.pyplot as plt\n",
    "%matplotlib inline\n",
    "from pandas.plotting import register_matplotlib_converters\n",
    "register_matplotlib_converters()"
   ]
  },
  {
   "cell_type": "code",
   "execution_count": 2,
   "metadata": {},
   "outputs": [],
   "source": [
    "df = pd.read_csv('PLTR.csv',index_col=0,parse_dates=True)"
   ]
  },
  {
   "cell_type": "code",
   "execution_count": 3,
   "metadata": {},
   "outputs": [
    {
     "data": {
      "text/html": [
       "<div>\n",
       "<style scoped>\n",
       "    .dataframe tbody tr th:only-of-type {\n",
       "        vertical-align: middle;\n",
       "    }\n",
       "\n",
       "    .dataframe tbody tr th {\n",
       "        vertical-align: top;\n",
       "    }\n",
       "\n",
       "    .dataframe thead th {\n",
       "        text-align: right;\n",
       "    }\n",
       "</style>\n",
       "<table border=\"1\" class=\"dataframe\">\n",
       "  <thead>\n",
       "    <tr style=\"text-align: right;\">\n",
       "      <th></th>\n",
       "      <th>Open</th>\n",
       "      <th>High</th>\n",
       "      <th>Low</th>\n",
       "      <th>Close</th>\n",
       "      <th>Adj Close</th>\n",
       "      <th>Volume</th>\n",
       "    </tr>\n",
       "    <tr>\n",
       "      <th>Date</th>\n",
       "      <th></th>\n",
       "      <th></th>\n",
       "      <th></th>\n",
       "      <th></th>\n",
       "      <th></th>\n",
       "      <th></th>\n",
       "    </tr>\n",
       "  </thead>\n",
       "  <tbody>\n",
       "    <tr>\n",
       "      <th>2020-09-30</th>\n",
       "      <td>10.00</td>\n",
       "      <td>11.41</td>\n",
       "      <td>9.11</td>\n",
       "      <td>9.50</td>\n",
       "      <td>9.50</td>\n",
       "      <td>338584400</td>\n",
       "    </tr>\n",
       "    <tr>\n",
       "      <th>2020-10-01</th>\n",
       "      <td>9.69</td>\n",
       "      <td>10.10</td>\n",
       "      <td>9.23</td>\n",
       "      <td>9.46</td>\n",
       "      <td>9.46</td>\n",
       "      <td>124297600</td>\n",
       "    </tr>\n",
       "    <tr>\n",
       "      <th>2020-10-02</th>\n",
       "      <td>9.06</td>\n",
       "      <td>9.28</td>\n",
       "      <td>8.94</td>\n",
       "      <td>9.20</td>\n",
       "      <td>9.20</td>\n",
       "      <td>55018300</td>\n",
       "    </tr>\n",
       "    <tr>\n",
       "      <th>2020-10-05</th>\n",
       "      <td>9.43</td>\n",
       "      <td>9.49</td>\n",
       "      <td>8.92</td>\n",
       "      <td>9.03</td>\n",
       "      <td>9.03</td>\n",
       "      <td>36316900</td>\n",
       "    </tr>\n",
       "    <tr>\n",
       "      <th>2020-10-06</th>\n",
       "      <td>9.04</td>\n",
       "      <td>10.18</td>\n",
       "      <td>8.90</td>\n",
       "      <td>9.90</td>\n",
       "      <td>9.90</td>\n",
       "      <td>90864000</td>\n",
       "    </tr>\n",
       "  </tbody>\n",
       "</table>\n",
       "</div>"
      ],
      "text/plain": [
       "             Open   High   Low  Close  Adj Close     Volume\n",
       "Date                                                       \n",
       "2020-09-30  10.00  11.41  9.11   9.50       9.50  338584400\n",
       "2020-10-01   9.69  10.10  9.23   9.46       9.46  124297600\n",
       "2020-10-02   9.06   9.28  8.94   9.20       9.20   55018300\n",
       "2020-10-05   9.43   9.49  8.92   9.03       9.03   36316900\n",
       "2020-10-06   9.04  10.18  8.90   9.90       9.90   90864000"
      ]
     },
     "execution_count": 3,
     "metadata": {},
     "output_type": "execute_result"
    }
   ],
   "source": [
    "df.dropna(inplace=True)\n",
    "df.head()"
   ]
  },
  {
   "cell_type": "code",
   "execution_count": 4,
   "metadata": {},
   "outputs": [
    {
     "data": {
      "text/html": [
       "<div>\n",
       "<style scoped>\n",
       "    .dataframe tbody tr th:only-of-type {\n",
       "        vertical-align: middle;\n",
       "    }\n",
       "\n",
       "    .dataframe tbody tr th {\n",
       "        vertical-align: top;\n",
       "    }\n",
       "\n",
       "    .dataframe thead th {\n",
       "        text-align: right;\n",
       "    }\n",
       "</style>\n",
       "<table border=\"1\" class=\"dataframe\">\n",
       "  <thead>\n",
       "    <tr style=\"text-align: right;\">\n",
       "      <th></th>\n",
       "      <th>Close</th>\n",
       "    </tr>\n",
       "    <tr>\n",
       "      <th>Date</th>\n",
       "      <th></th>\n",
       "    </tr>\n",
       "  </thead>\n",
       "  <tbody>\n",
       "    <tr>\n",
       "      <th>2021-02-12</th>\n",
       "      <td>31.91</td>\n",
       "    </tr>\n",
       "    <tr>\n",
       "      <th>2021-02-16</th>\n",
       "      <td>27.84</td>\n",
       "    </tr>\n",
       "    <tr>\n",
       "      <th>2021-02-17</th>\n",
       "      <td>27.08</td>\n",
       "    </tr>\n",
       "    <tr>\n",
       "      <th>2021-02-18</th>\n",
       "      <td>25.17</td>\n",
       "    </tr>\n",
       "    <tr>\n",
       "      <th>2021-02-19</th>\n",
       "      <td>29.00</td>\n",
       "    </tr>\n",
       "  </tbody>\n",
       "</table>\n",
       "</div>"
      ],
      "text/plain": [
       "            Close\n",
       "Date             \n",
       "2021-02-12  31.91\n",
       "2021-02-16  27.84\n",
       "2021-02-17  27.08\n",
       "2021-02-18  25.17\n",
       "2021-02-19  29.00"
      ]
     },
     "execution_count": 4,
     "metadata": {},
     "output_type": "execute_result"
    }
   ],
   "source": [
    "df_new = df.drop(columns=['Open','High','Low','Adj Close','Volume'])\n",
    "df_new.tail()"
   ]
  },
  {
   "cell_type": "code",
   "execution_count": 5,
   "metadata": {},
   "outputs": [
    {
     "data": {
      "text/plain": [
       "[<matplotlib.lines.Line2D at 0x7ff244de01c0>]"
      ]
     },
     "execution_count": 5,
     "metadata": {},
     "output_type": "execute_result"
    },
    {
     "data": {
      "image/png": "[encoded data removed]",
      "text/plain": [
       "<Figure size 864x288 with 1 Axes>"
      ]
     },
     "metadata": {
      "needs_background": "light"
     },
     "output_type": "display_data"
    }
   ],
   "source": [
    "plt.figure(figsize=(12,4))\n",
    "plt.grid(True)\n",
    "plt.autoscale(axis='x',tight=True)\n",
    "plt.plot(df_new)"
   ]
  },
  {
   "cell_type": "code",
   "execution_count": 6,
   "metadata": {},
   "outputs": [],
   "source": [
    "y = df['Close'].values.astype(float)\n",
    "\n",
    "\n",
    "test_size = 14\n",
    "\n",
    "train_set = y[:-test_size]\n",
    "test_set = y[-test_size:]"
   ]
  },
  {
   "cell_type": "code",
   "execution_count": 7,
   "metadata": {},
   "outputs": [
    {
     "data": {
      "text/plain": [
       "array([33.959999, 31.02    , 31.76    , 32.049999, 34.049999, 36.049999,\n",
       "       38.169998, 35.700001, 33.110001, 31.91    , 27.84    , 27.08    ,\n",
       "       25.17    , 29.      ])"
      ]
     },
     "execution_count": 7,
     "metadata": {},
     "output_type": "execute_result"
    }
   ],
   "source": [
    "test_set"
   ]
  },
  {
   "cell_type": "code",
   "execution_count": 8,
   "metadata": {},
   "outputs": [],
   "source": [
    "from sklearn.preprocessing import MinMaxScaler\n",
    "\n",
    "scaler = MinMaxScaler(feature_range=(-1, 1))"
   ]
  },
  {
   "cell_type": "code",
   "execution_count": 9,
   "metadata": {},
   "outputs": [],
   "source": [
    "train_norm = scaler.fit_transform(train_set.reshape(-1, 1))"
   ]
  },
  {
   "cell_type": "code",
   "execution_count": 10,
   "metadata": {},
   "outputs": [
    {
     "data": {
      "text/plain": [
       "72"
      ]
     },
     "execution_count": 10,
     "metadata": {},
     "output_type": "execute_result"
    }
   ],
   "source": [
    "# Convert train_norm from an array to a tensor\n",
    "train_norm = torch.FloatTensor(train_norm).view(-1)\n",
    "\n",
    "# Define a window size\n",
    "window_size = 12\n",
    "\n",
    "# Define function to create seq/label tuples\n",
    "def input_data(seq,ws):  # ws is the window size\n",
    "    out = []\n",
    "    L = len(seq)\n",
    "    for i in range(L-ws):\n",
    "        window = seq[i:i+ws]\n",
    "        label = seq[i+ws:i+ws+1]\n",
    "        out.append((window,label))\n",
    "    return out\n",
    "\n",
    "# Apply the input_data function to train_norm\n",
    "train_data = input_data(train_norm,window_size)\n",
    "len(train_data)  "
   ]
  },
  {
   "cell_type": "code",
   "execution_count": 11,
   "metadata": {},
   "outputs": [
    {
     "data": {
      "text/plain": [
       "(tensor([-0.9686, -0.9713, -0.9887, -1.0000, -0.9419, -0.9353, -0.9353, -0.9386,\n",
       "         -0.9426, -0.9706, -0.9793, -0.9413]),\n",
       " tensor([-0.9546]))"
      ]
     },
     "execution_count": 11,
     "metadata": {},
     "output_type": "execute_result"
    }
   ],
   "source": [
    "train_data[0]"
   ]
  },
  {
   "cell_type": "code",
   "execution_count": 12,
   "metadata": {},
   "outputs": [],
   "source": [
    "class LSTMnetwork(nn.Module):\n",
    "    def __init__(self,input_size=1,hidden_size=100,output_size=1):\n",
    "        super().__init__()\n",
    "        self.hidden_size = hidden_size\n",
    "        \n",
    "        # Add an LSTM layer:\n",
    "        self.lstm = nn.LSTM(input_size,hidden_size)\n",
    "        \n",
    "        # Add a fully-connected layer:\n",
    "        self.linear = nn.Linear(hidden_size,output_size)\n",
    "        \n",
    "        # Initialize h0 and c0:\n",
    "        self.hidden = (torch.zeros(1,1,self.hidden_size),\n",
    "                       torch.zeros(1,1,self.hidden_size))\n",
    "\n",
    "    def forward(self,seq):\n",
    "        lstm_out, self.hidden = self.lstm(\n",
    "            seq.view(len(seq),1,-1), self.hidden)\n",
    "        pred = self.linear(lstm_out.view(len(seq),-1))\n",
    "        return pred[-1]  # last value"
   ]
  },
  {
   "cell_type": "code",
   "execution_count": 13,
   "metadata": {},
   "outputs": [
    {
     "data": {
      "text/plain": [
       "LSTMnetwork(\n",
       "  (lstm): LSTM(1, 100)\n",
       "  (linear): Linear(in_features=100, out_features=1, bias=True)\n",
       ")"
      ]
     },
     "execution_count": 13,
     "metadata": {},
     "output_type": "execute_result"
    }
   ],
   "source": [
    "torch.manual_seed(101)\n",
    "model = LSTMnetwork()\n",
    "\n",
    "criterion = nn.MSELoss()\n",
    "optimizer = torch.optim.Adam(model.parameters(), lr=0.001)\n",
    "\n",
    "model"
   ]
  },
  {
   "cell_type": "code",
   "execution_count": 14,
   "metadata": {},
   "outputs": [
    {
     "name": "stdout",
     "output_type": "stream",
     "text": [
      "Epoch:  1 Loss: 0.24943663\n",
      "Epoch:  2 Loss: 0.10808866\n",
      "Epoch:  3 Loss: 0.12777404\n",
      "Epoch:  4 Loss: 0.02741243\n",
      "Epoch:  5 Loss: 0.01504429\n",
      "Epoch:  6 Loss: 0.00271314\n",
      "Epoch:  7 Loss: 0.00039824\n",
      "Epoch:  8 Loss: 0.00000025\n",
      "Epoch:  9 Loss: 0.00004589\n",
      "Epoch: 10 Loss: 0.00005083\n",
      "\n",
      "Duration: 2 seconds\n"
     ]
    }
   ],
   "source": [
    "epochs = 10\n",
    "\n",
    "import time\n",
    "start_time = time.time()\n",
    "\n",
    "for epoch in range(epochs):\n",
    "    \n",
    "    # extract the sequence & label from the training data\n",
    "    for seq, y_train in train_data:\n",
    "        \n",
    "        # reset the parameters and hidden states\n",
    "        optimizer.zero_grad()\n",
    "        model.hidden = (torch.zeros(1,1,model.hidden_size),\n",
    "                        torch.zeros(1,1,model.hidden_size))\n",
    "        \n",
    "        y_pred = model(seq)\n",
    "        \n",
    "        loss = criterion(y_pred, y_train)\n",
    "        loss.backward()\n",
    "        optimizer.step()\n",
    "        \n",
    "    # print training result\n",
    "    print(f'Epoch: {epoch+1:2} Loss: {loss.item():10.8f}')\n",
    "    \n",
    "print(f'\\nDuration: {time.time() - start_time:.0f} seconds')"
   ]
  },
  {
   "cell_type": "code",
   "execution_count": 15,
   "metadata": {},
   "outputs": [],
   "source": [
    "future = 7\n",
    "\n",
    "# Add the last window of training values to the list of predictions\n",
    "preds = train_norm[-window_size:].tolist()\n",
    "\n",
    "# Set the model to evaluation mode\n",
    "model.eval()\n",
    "\n",
    "for i in range(future):\n",
    "    seq = torch.FloatTensor(preds[-window_size:])\n",
    "    with torch.no_grad():\n",
    "        model.hidden = (torch.zeros(1,1,model.hidden_size),\n",
    "                        torch.zeros(1,1,model.hidden_size))\n",
    "        preds.append(model(seq).item())"
   ]
  },
  {
   "cell_type": "code",
   "execution_count": 16,
   "metadata": {},
   "outputs": [
    {
     "data": {
      "text/plain": [
       "array([[34.60110569],\n",
       "       [33.70645725],\n",
       "       [32.90835393],\n",
       "       [32.23408674],\n",
       "       [31.67065639],\n",
       "       [31.19474161],\n",
       "       [30.78611065]])"
      ]
     },
     "execution_count": 16,
     "metadata": {},
     "output_type": "execute_result"
    }
   ],
   "source": [
    "true_predictions = scaler.inverse_transform(np.array(preds[window_size:]).reshape(-1, 1))\n",
    "true_predictions"
   ]
  },
  {
   "cell_type": "code",
   "execution_count": 17,
   "metadata": {},
   "outputs": [
    {
     "name": "stdout",
     "output_type": "stream",
     "text": [
      "Epoch:  1 Loss: 0.02524299\n",
      "Epoch:  2 Loss: 0.02175316\n",
      "Epoch:  3 Loss: 0.02070570\n",
      "Epoch:  4 Loss: 0.01757898\n",
      "Epoch:  5 Loss: 0.01606130\n",
      "Epoch:  6 Loss: 0.01538522\n",
      "Epoch:  7 Loss: 0.01392444\n",
      "Epoch:  8 Loss: 0.01216037\n",
      "Epoch:  9 Loss: 0.01023623\n",
      "Epoch: 10 Loss: 0.00840310\n",
      "Epoch: 11 Loss: 0.00684561\n",
      "Epoch: 12 Loss: 0.00569265\n",
      "Epoch: 13 Loss: 0.00497282\n",
      "Epoch: 14 Loss: 0.00464258\n",
      "Epoch: 15 Loss: 0.00463270\n",
      "Epoch: 16 Loss: 0.00488591\n",
      "Epoch: 17 Loss: 0.00529919\n",
      "Epoch: 18 Loss: 0.00572032\n",
      "Epoch: 19 Loss: 0.00616233\n",
      "Epoch: 20 Loss: 0.00671509\n",
      "Epoch: 21 Loss: 0.00741104\n",
      "Epoch: 22 Loss: 0.00818513\n",
      "Epoch: 23 Loss: 0.00840160\n",
      "Epoch: 24 Loss: 0.00839249\n",
      "Epoch: 25 Loss: 0.00696355\n",
      "Epoch: 26 Loss: 0.00729650\n",
      "Epoch: 27 Loss: 0.00363387\n",
      "Epoch: 28 Loss: 0.00954422\n",
      "Epoch: 29 Loss: 0.00035971\n",
      "Epoch: 30 Loss: 0.04539213\n",
      "Epoch: 31 Loss: 0.02182221\n",
      "Epoch: 32 Loss: 0.02804021\n",
      "Epoch: 33 Loss: 0.02458072\n",
      "Epoch: 34 Loss: 0.01504416\n",
      "Epoch: 35 Loss: 0.00806482\n",
      "Epoch: 36 Loss: 0.00414492\n",
      "Epoch: 37 Loss: 0.00382141\n",
      "Epoch: 38 Loss: 0.00496704\n",
      "Epoch: 39 Loss: 0.00634322\n",
      "Epoch: 40 Loss: 0.00468176\n",
      "Epoch: 41 Loss: 0.00406596\n",
      "Epoch: 42 Loss: 0.00372094\n",
      "Epoch: 43 Loss: 0.00491737\n",
      "Epoch: 44 Loss: 0.00144992\n",
      "Epoch: 45 Loss: 0.00187441\n",
      "Epoch: 46 Loss: 0.00093149\n",
      "Epoch: 47 Loss: 0.01367332\n",
      "Epoch: 48 Loss: 0.00060304\n",
      "Epoch: 49 Loss: 0.02877758\n",
      "Epoch: 50 Loss: 0.01567627\n",
      "Epoch: 51 Loss: 0.00220102\n",
      "Epoch: 52 Loss: 0.00367103\n",
      "Epoch: 53 Loss: 0.00078945\n",
      "Epoch: 54 Loss: 0.00398210\n",
      "Epoch: 55 Loss: 0.00146838\n",
      "Epoch: 56 Loss: 0.00065867\n",
      "Epoch: 57 Loss: 0.00616613\n",
      "Epoch: 58 Loss: 0.00093084\n",
      "Epoch: 59 Loss: 0.00426692\n",
      "Epoch: 60 Loss: 0.00977731\n",
      "Epoch: 61 Loss: 0.00190073\n",
      "Epoch: 62 Loss: 0.00605610\n",
      "Epoch: 63 Loss: 0.00112010\n",
      "Epoch: 64 Loss: 0.02043348\n",
      "Epoch: 65 Loss: 0.00587195\n",
      "Epoch: 66 Loss: 0.00358927\n",
      "Epoch: 67 Loss: 0.01557061\n",
      "Epoch: 68 Loss: 0.00154374\n",
      "Epoch: 69 Loss: 0.00887788\n",
      "Epoch: 70 Loss: 0.00170192\n",
      "Epoch: 71 Loss: 0.00674607\n",
      "Epoch: 72 Loss: 0.00240903\n",
      "Epoch: 73 Loss: 0.00822758\n",
      "Epoch: 74 Loss: 0.00095057\n",
      "Epoch: 75 Loss: 0.00612134\n",
      "Epoch: 76 Loss: 0.00178744\n",
      "Epoch: 77 Loss: 0.00635268\n",
      "Epoch: 78 Loss: 0.00145537\n",
      "Epoch: 79 Loss: 0.00676562\n",
      "Epoch: 80 Loss: 0.00104096\n",
      "Epoch: 81 Loss: 0.00623461\n",
      "Epoch: 82 Loss: 0.00126079\n",
      "Epoch: 83 Loss: 0.00599363\n",
      "Epoch: 84 Loss: 0.00137661\n",
      "Epoch: 85 Loss: 0.00621174\n",
      "Epoch: 86 Loss: 0.00117167\n",
      "Epoch: 87 Loss: 0.00593578\n",
      "Epoch: 88 Loss: 0.00131680\n",
      "Epoch: 89 Loss: 0.00582830\n",
      "Epoch: 90 Loss: 0.00130554\n",
      "Epoch: 91 Loss: 0.00610692\n",
      "Epoch: 92 Loss: 0.00084792\n",
      "Epoch: 93 Loss: 0.00579492\n",
      "Epoch: 94 Loss: 0.00079005\n",
      "Epoch: 95 Loss: 0.00563232\n",
      "Epoch: 96 Loss: 0.00055819\n",
      "Epoch: 97 Loss: 0.00606908\n",
      "Epoch: 98 Loss: 0.00005611\n",
      "Epoch: 99 Loss: 0.00647411\n",
      "Epoch: 100 Loss: 0.00000064\n",
      "Epoch: 101 Loss: 0.00861019\n",
      "Epoch: 102 Loss: 0.00208786\n",
      "Epoch: 103 Loss: 0.01744769\n",
      "Epoch: 104 Loss: 0.00457959\n",
      "Epoch: 105 Loss: 0.02115139\n",
      "Epoch: 106 Loss: 0.01206335\n",
      "Epoch: 107 Loss: 0.02684655\n",
      "Epoch: 108 Loss: 0.00016778\n",
      "Epoch: 109 Loss: 0.01156450\n",
      "Epoch: 110 Loss: 0.00067761\n",
      "Epoch: 111 Loss: 0.01875762\n",
      "Epoch: 112 Loss: 0.00001335\n",
      "Epoch: 113 Loss: 0.00715677\n",
      "Epoch: 114 Loss: 0.00072983\n",
      "Epoch: 115 Loss: 0.00457506\n",
      "Epoch: 116 Loss: 0.00002556\n",
      "Epoch: 117 Loss: 0.00355292\n",
      "Epoch: 118 Loss: 0.00066201\n",
      "Epoch: 119 Loss: 0.00048644\n",
      "Epoch: 120 Loss: 0.00056236\n",
      "Epoch: 121 Loss: 0.00516980\n",
      "Epoch: 122 Loss: 0.02420646\n",
      "Epoch: 123 Loss: 0.00062823\n",
      "Epoch: 124 Loss: 0.01402796\n",
      "Epoch: 125 Loss: 0.00452593\n",
      "Epoch: 126 Loss: 0.03064139\n",
      "Epoch: 127 Loss: 0.04996286\n",
      "Epoch: 128 Loss: 0.01231581\n",
      "Epoch: 129 Loss: 0.01958797\n",
      "Epoch: 130 Loss: 0.01220845\n",
      "Epoch: 131 Loss: 0.00061079\n",
      "Epoch: 132 Loss: 0.00184456\n",
      "Epoch: 133 Loss: 0.00551390\n",
      "Epoch: 134 Loss: 0.00280325\n",
      "Epoch: 135 Loss: 0.00604611\n",
      "Epoch: 136 Loss: 0.00669762\n",
      "Epoch: 137 Loss: 0.02327034\n",
      "Epoch: 138 Loss: 0.00079285\n",
      "Epoch: 139 Loss: 0.00328859\n",
      "Epoch: 140 Loss: 0.02473243\n",
      "Epoch: 141 Loss: 0.00321866\n",
      "Epoch: 142 Loss: 0.00071762\n",
      "Epoch: 143 Loss: 0.00246048\n",
      "Epoch: 144 Loss: 0.00175098\n",
      "Epoch: 145 Loss: 0.00657000\n",
      "Epoch: 146 Loss: 0.00255071\n",
      "Epoch: 147 Loss: 0.01352696\n",
      "Epoch: 148 Loss: 0.00000897\n",
      "Epoch: 149 Loss: 0.00028490\n",
      "Epoch: 150 Loss: 0.00027801\n",
      "Epoch: 151 Loss: 0.01186297\n",
      "Epoch: 152 Loss: 0.00176119\n",
      "Epoch: 153 Loss: 0.01304221\n",
      "Epoch: 154 Loss: 0.00047938\n",
      "Epoch: 155 Loss: 0.00190044\n",
      "Epoch: 156 Loss: 0.00089482\n",
      "Epoch: 157 Loss: 0.00039170\n",
      "Epoch: 158 Loss: 0.01160372\n",
      "Epoch: 159 Loss: 0.01528779\n",
      "Epoch: 160 Loss: 0.01990663\n",
      "Epoch: 161 Loss: 0.00023311\n",
      "Epoch: 162 Loss: 0.00105319\n",
      "Epoch: 163 Loss: 0.00104679\n",
      "Epoch: 164 Loss: 0.00240313\n",
      "Epoch: 165 Loss: 0.00885332\n",
      "Epoch: 166 Loss: 0.01032649\n",
      "Epoch: 167 Loss: 0.01742822\n",
      "Epoch: 168 Loss: 0.00051684\n",
      "Epoch: 169 Loss: 0.00050842\n",
      "Epoch: 170 Loss: 0.00047740\n",
      "Epoch: 171 Loss: 0.00049398\n",
      "Epoch: 172 Loss: 0.00005264\n",
      "Epoch: 173 Loss: 0.00154282\n",
      "Epoch: 174 Loss: 0.01387446\n",
      "Epoch: 175 Loss: 0.00092339\n",
      "Epoch: 176 Loss: 0.00173394\n",
      "Epoch: 177 Loss: 0.00273379\n",
      "Epoch: 178 Loss: 0.01080346\n",
      "Epoch: 179 Loss: 0.00022391\n",
      "Epoch: 180 Loss: 0.00035924\n",
      "Epoch: 181 Loss: 0.00078286\n",
      "Epoch: 182 Loss: 0.00199719\n",
      "Epoch: 183 Loss: 0.00001309\n",
      "Epoch: 184 Loss: 0.00166020\n",
      "Epoch: 185 Loss: 0.00216446\n",
      "Epoch: 186 Loss: 0.00321519\n",
      "Epoch: 187 Loss: 0.00017410\n",
      "Epoch: 188 Loss: 0.00053022\n",
      "Epoch: 189 Loss: 0.00005406\n",
      "Epoch: 190 Loss: 0.01145592\n",
      "Epoch: 191 Loss: 0.00000187\n",
      "Epoch: 192 Loss: 0.01609554\n",
      "Epoch: 193 Loss: 0.00475141\n",
      "Epoch: 194 Loss: 0.00555813\n",
      "Epoch: 195 Loss: 0.00211162\n",
      "Epoch: 196 Loss: 0.00945769\n",
      "Epoch: 197 Loss: 0.00000346\n",
      "Epoch: 198 Loss: 0.00001319\n",
      "Epoch: 199 Loss: 0.00108292\n",
      "Epoch: 200 Loss: 0.00002628\n",
      "\n",
      "Duration: 61 seconds\n"
     ]
    }
   ],
   "source": [
    "epochs = 200\n",
    "\n",
    "# set model to back to training mode\n",
    "model.train()\n",
    "\n",
    "# feature scale the entire dataset\n",
    "y_norm = scaler.fit_transform(y.reshape(-1, 1))\n",
    "y_norm = torch.FloatTensor(y_norm).view(-1)\n",
    "all_data = input_data(y_norm,window_size)\n",
    "\n",
    "import time\n",
    "start_time = time.time()\n",
    "\n",
    "for epoch in range(epochs):\n",
    "    \n",
    "    # train on the full set of sequences\n",
    "    for seq, y_train in all_data:  \n",
    "        \n",
    "        # reset the parameters and hidden states\n",
    "        optimizer.zero_grad()\n",
    "        model.hidden = (torch.zeros(1,1,model.hidden_size),\n",
    "                        torch.zeros(1,1,model.hidden_size))\n",
    "        \n",
    "        y_pred = model(seq)\n",
    "        \n",
    "        loss = criterion(y_pred, y_train)\n",
    "        loss.backward()\n",
    "        optimizer.step()\n",
    "        \n",
    "    # print training result\n",
    "    print(f'Epoch: {epoch+1:2} Loss: {loss.item():10.8f}')\n",
    "    \n",
    "print(f'\\nDuration: {time.time() - start_time:.0f} seconds')"
   ]
  },
  {
   "cell_type": "code",
   "execution_count": 18,
   "metadata": {},
   "outputs": [],
   "source": [
    "window_size = 14\n",
    "future = 4\n",
    "L = len(y)\n",
    "\n",
    "preds = y_norm[-window_size:].tolist()\n",
    "\n",
    "model.eval()\n",
    "for i in range(future):  \n",
    "    seq = torch.FloatTensor(preds[-window_size:])\n",
    "    with torch.no_grad():\n",
    "        # Reset the hidden parameters here!\n",
    "        model.hidden = (torch.zeros(1,1,model.hidden_size),\n",
    "                        torch.zeros(1,1,model.hidden_size))  \n",
    "        preds.append(model(seq).item())\n",
    "\n",
    "# Inverse-normalize the prediction set\n",
    "true_predictions = scaler.inverse_transform(np.array(preds).reshape(-1, 1))"
   ]
  },
  {
   "cell_type": "code",
   "execution_count": 19,
   "metadata": {},
   "outputs": [
    {
     "data": {
      "text/plain": [
       "array([[31.82818755],\n",
       "       [35.02055346],\n",
       "       [34.95140023],\n",
       "       [31.70272139]])"
      ]
     },
     "execution_count": 19,
     "metadata": {},
     "output_type": "execute_result"
    }
   ],
   "source": [
    "true_predictions[-future:]"
   ]
  },
  {
   "cell_type": "code",
   "execution_count": null,
   "metadata": {},
   "outputs": [],
   "source": []
  },
  {
   "cell_type": "code",
   "execution_count": null,
   "metadata": {},
   "outputs": [],
   "source": []
  },
  {
   "cell_type": "code",
   "execution_count": null,
   "metadata": {},
   "outputs": [],
   "source": []
  }
 ],
 "metadata": {
  "kernelspec": {
   "display_name": "Python 3",
   "language": "python",
   "name": "python3"
  },
  "language_info": {
   "codemirror_mode": {
    "name": "ipython",
    "version": 3
   },
   "file_extension": ".py",
   "mimetype": "text/x-python",
   "name": "python",
   "nbconvert_exporter": "python",
   "pygments_lexer": "ipython3",
   "version": "3.8.3"
  }
 },
 "nbformat": 4,
 "nbformat_minor": 4
}
